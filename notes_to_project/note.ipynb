{
 "cells": [
  {
   "cell_type": "code",
   "execution_count": 30,
   "metadata": {},
   "outputs": [
    {
     "name": "stdout",
     "output_type": "stream",
     "text": [
      "YES\n"
     ]
    }
   ],
   "source": [
    "ww = [\"qwer\", 'asdf', 'zxcvbnm']\n",
    "pp = [\"qwer\", 'asdf', 'zxcvbnm']\n",
    "word = ''\n",
    "ans =''\n",
    "\n",
    "for i, j in zip(ww[0], pp[0]):\n",
    "    \n",
    "    word += i\n",
    "    ans += j\n",
    "\n",
    "if word == ans:\n",
    "    print('YES')\n",
    "else:\n",
    "    print('NOT')\n"
   ]
  },
  {
   "cell_type": "code",
   "execution_count": 10,
   "metadata": {},
   "outputs": [
    {
     "name": "stdout",
     "output_type": "stream",
     "text": [
      "{0: 'd', 1: 'o', 2: 'm', 3: 'e', 4: 'k'} {1: 'd', 2: 'o'}\n",
      "dict_values(['d', 'o', 'm', 'e', 'k']) dict_values(['d', 'o'])\n",
      "[1]\n",
      "[1, 1]\n",
      "2 5\n",
      "good\n"
     ]
    }
   ],
   "source": [
    "a = 'domek'\n",
    "b = ' do'\n",
    "word = {}\n",
    "ans = {}\n",
    "for i, j in enumerate(a):\n",
    "    word[i] = j\n",
    "\n",
    "for i, j in enumerate(b):\n",
    "    ans[i] = j\n",
    "\n",
    "ans.pop(0)\n",
    "print(word, ans)\n",
    "print(word.values(), ans.values())\n",
    "\n",
    "\n",
    "check = []\n",
    "for i in range(len(ans.keys())):\n",
    "\n",
    "    if word[i] == ans[i+1]:\n",
    "        check.append(1)\n",
    "        print(check)\n",
    "\n",
    "    else:\n",
    "        check.append(0)\n",
    "        print(check)\n",
    "\n",
    "print(sum(check), len(word.keys()))\n",
    "if sum(check) >= len(word.keys())//2:\n",
    "    print('good')\n",
    "\n"
   ]
  },
  {
   "cell_type": "code",
   "execution_count": 7,
   "metadata": {},
   "outputs": [
    {
     "name": "stdout",
     "output_type": "stream",
     "text": [
      "[' ', 2, 0, 3, 4, 5, 6]\n"
     ]
    }
   ],
   "source": [
    "asx = [1,\" \",2,0,3,4,5,6]\n",
    "asx.pop(0)\n",
    "print(asx)"
   ]
  },
  {
   "cell_type": "code",
   "execution_count": 1,
   "metadata": {},
   "outputs": [
    {
     "name": "stdout",
     "output_type": "stream",
     "text": [
      "ę\n",
      "eaśłżźćń\n",
      "ęaśłżźćń\n"
     ]
    }
   ],
   "source": [
    "string = 'ęąśłżźćń'\n",
    "sn = list(string)\n",
    "for i,v in enumerate(sn):\n",
    "   \n",
    "    if v == 'ę':\n",
    "        print(sn[i])\n",
    "        sn[i] = 'e'\n",
    "    elif v == 'ą':\n",
    "        sn[i] = 'a'\n",
    "ass = ''.join(sn)\n",
    "        \n",
    "print(ass)\n",
    "\n",
    "result = string.replace('ą','a')\n",
    "print(result)\n"
   ]
  },
  {
   "cell_type": "code",
   "execution_count": 4,
   "metadata": {},
   "outputs": [
    {
     "name": "stdout",
     "output_type": "stream",
     "text": [
      "{0: 'd', 1: 'a', 2: 'r', 3: 'e', 4: 'k'} {0: 'dareka', 1: 'kamila', 2: 'paulina'}\n"
     ]
    }
   ],
   "source": [
    "a = 'darek'\n",
    "b = ['dareka','kamila','paulina']\n",
    "\n",
    "word = {}\n",
    "ans = {}\n",
    "for i, j in enumerate(a):\n",
    "    word[i] = j\n",
    "\n",
    "for i, j in enumerate(b):\n",
    "    ans[i] = j\n",
    "print(word, ans)  "
   ]
  },
  {
   "cell_type": "code",
   "execution_count": 4,
   "metadata": {},
   "outputs": [
    {
     "name": "stdout",
     "output_type": "stream",
     "text": [
      "{1: 1}\n"
     ]
    }
   ],
   "source": [
    "def save_results(result):\n",
    "\n",
    "    results = {}\n",
    "    if result == 'good':\n",
    "        results[len(results)+1] = 1\n",
    "\n",
    "    else:\n",
    "        results[len(results)+1] = 0\n",
    "\n",
    "    return results\n",
    "\n",
    "wa = save_results('good')\n",
    "\n",
    "\n",
    "print(wa)"
   ]
  },
  {
   "cell_type": "code",
   "execution_count": 3,
   "metadata": {},
   "outputs": [
    {
     "name": "stdout",
     "output_type": "stream",
     "text": [
      "Wed Sep 28 21:20:51 2022\n"
     ]
    }
   ],
   "source": [
    "import time\n",
    "\n",
    "\n",
    "t = time.asctime()\n",
    "y = time.localtime()\n",
    "print(t)"
   ]
  }
 ],
 "metadata": {
  "kernelspec": {
   "display_name": "Python 3.10.5 64-bit",
   "language": "python",
   "name": "python3"
  },
  "language_info": {
   "codemirror_mode": {
    "name": "ipython",
    "version": 3
   },
   "file_extension": ".py",
   "mimetype": "text/x-python",
   "name": "python",
   "nbconvert_exporter": "python",
   "pygments_lexer": "ipython3",
   "version": "3.10.5"
  },
  "orig_nbformat": 4,
  "vscode": {
   "interpreter": {
    "hash": "07d4027a9d5a2d17ca274cae8ea4257d348dc8ef83b7854a3ad49472e0b4c5f4"
   }
  }
 },
 "nbformat": 4,
 "nbformat_minor": 2
}
