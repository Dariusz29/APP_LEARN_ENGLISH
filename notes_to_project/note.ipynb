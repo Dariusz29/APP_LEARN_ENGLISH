{
 "cells": [
  {
   "cell_type": "code",
   "execution_count": 30,
   "metadata": {},
   "outputs": [
    {
     "name": "stdout",
     "output_type": "stream",
     "text": [
      "YES\n"
     ]
    }
   ],
   "source": [
    "ww = [\"qwer\", 'asdf', 'zxcvbnm']\n",
    "pp = [\"qwer\", 'asdf', 'zxcvbnm']\n",
    "word = ''\n",
    "ans =''\n",
    "\n",
    "for i, j in zip(ww[0], pp[0]):\n",
    "    \n",
    "    word += i\n",
    "    ans += j\n",
    "\n",
    "if word == ans:\n",
    "    print('YES')\n",
    "else:\n",
    "    print('NOT')\n"
   ]
  },
  {
   "cell_type": "code",
   "execution_count": 43,
   "metadata": {},
   "outputs": [
    {
     "name": "stdout",
     "output_type": "stream",
     "text": [
      "{0: 'd', 1: 'o', 2: 'm', 3: 'e', 4: 'k'} {1: 'd', 2: 'o'}\n",
      "dict_values(['d', 'o', 'm', 'e', 'k']) dict_values(['d', 'o'])\n"
     ]
    },
    {
     "ename": "KeyError",
     "evalue": "0",
     "output_type": "error",
     "traceback": [
      "\u001b[1;31m---------------------------------------------------------------------------\u001b[0m",
      "\u001b[1;31mKeyError\u001b[0m                                  Traceback (most recent call last)",
      "\u001b[1;32mc:\\Users\\dariu\\Desktop\\my_projects\\App_learn_words\\notes_to_project\\note.ipynb Cell 2\u001b[0m in \u001b[0;36m<cell line: 16>\u001b[1;34m()\u001b[0m\n\u001b[0;32m     <a href='vscode-notebook-cell:/c%3A/Users/dariu/Desktop/my_projects/App_learn_words/notes_to_project/note.ipynb#W1sZmlsZQ%3D%3D?line=14'>15</a>\u001b[0m check \u001b[39m=\u001b[39m []\n\u001b[0;32m     <a href='vscode-notebook-cell:/c%3A/Users/dariu/Desktop/my_projects/App_learn_words/notes_to_project/note.ipynb#W1sZmlsZQ%3D%3D?line=15'>16</a>\u001b[0m \u001b[39mfor\u001b[39;00m i \u001b[39min\u001b[39;00m \u001b[39mrange\u001b[39m(\u001b[39mlen\u001b[39m(ans\u001b[39m.\u001b[39mkeys())):\n\u001b[1;32m---> <a href='vscode-notebook-cell:/c%3A/Users/dariu/Desktop/my_projects/App_learn_words/notes_to_project/note.ipynb#W1sZmlsZQ%3D%3D?line=17'>18</a>\u001b[0m     \u001b[39mif\u001b[39;00m word[i] \u001b[39m==\u001b[39m ans[i]:\n\u001b[0;32m     <a href='vscode-notebook-cell:/c%3A/Users/dariu/Desktop/my_projects/App_learn_words/notes_to_project/note.ipynb#W1sZmlsZQ%3D%3D?line=18'>19</a>\u001b[0m         check\u001b[39m.\u001b[39mappend(\u001b[39m1\u001b[39m)\n\u001b[0;32m     <a href='vscode-notebook-cell:/c%3A/Users/dariu/Desktop/my_projects/App_learn_words/notes_to_project/note.ipynb#W1sZmlsZQ%3D%3D?line=19'>20</a>\u001b[0m         \u001b[39mprint\u001b[39m(check)\n",
      "\u001b[1;31mKeyError\u001b[0m: 0"
     ]
    }
   ],
   "source": [
    "a = 'domek'\n",
    "b = ' do'\n",
    "word = {}\n",
    "ans = {}\n",
    "for i, j in enumerate(a):\n",
    "    word[i] = j\n",
    "\n",
    "for i, j in enumerate(b):\n",
    "    ans[i] = j\n",
    "\n",
    "ans.pop(0)\n",
    "print(word, ans)\n",
    "print(word.values(), ans.values())\n",
    "\n",
    "check = []\n",
    "for i in range(len(ans.keys())):\n",
    "\n",
    "    if word[i] == ans[i+1]:\n",
    "        check.append(1)\n",
    "        print(check)\n",
    "\n",
    "    else:\n",
    "        check.append(0)\n",
    "        print(check)\n",
    "\n",
    "print(sum(check), len(word.keys()))\n",
    "if sum(check) >= len(word.keys())//2:\n",
    "    print('good')\n",
    "\n"
   ]
  },
  {
   "cell_type": "code",
   "execution_count": null,
   "metadata": {},
   "outputs": [],
   "source": []
  },
  {
   "cell_type": "code",
   "execution_count": 30,
   "metadata": {},
   "outputs": [
    {
     "name": "stdout",
     "output_type": "stream",
     "text": [
      "[1, 3, 4, 5, 6]\n"
     ]
    }
   ],
   "source": [
    "asx = [1,2,3,4,5,6]\n",
    "asx.remove(2)\n",
    "print(asx)"
   ]
  },
  {
   "cell_type": "code",
   "execution_count": 1,
   "metadata": {},
   "outputs": [
    {
     "name": "stdout",
     "output_type": "stream",
     "text": [
      "ę\n",
      "eaśłżźćń\n",
      "ęaśłżźćń\n"
     ]
    }
   ],
   "source": [
    "string = 'ęąśłżźćń'\n",
    "sn = list(string)\n",
    "for i,v in enumerate(sn):\n",
    "   \n",
    "    if v == 'ę':\n",
    "        print(sn[i])\n",
    "        sn[i] = 'e'\n",
    "    elif v == 'ą':\n",
    "        sn[i] = 'a'\n",
    "ass = ''.join(sn)\n",
    "        \n",
    "print(ass)\n",
    "\n",
    "result = string.replace('ą','a')\n",
    "print(result)\n"
   ]
  },
  {
   "cell_type": "code",
   "execution_count": 4,
   "metadata": {},
   "outputs": [
    {
     "name": "stdout",
     "output_type": "stream",
     "text": [
      "{0: 'd', 1: 'a', 2: 'r', 3: 'e', 4: 'k'} {0: 'dareka', 1: 'kamila', 2: 'paulina'}\n"
     ]
    }
   ],
   "source": [
    "a = 'darek'\n",
    "b = ['dareka','kamila','paulina']\n",
    "\n",
    "word = {}\n",
    "ans = {}\n",
    "for i, j in enumerate(a):\n",
    "    word[i] = j\n",
    "\n",
    "for i, j in enumerate(b):\n",
    "    ans[i] = j\n",
    "print(word, ans)  "
   ]
  }
 ],
 "metadata": {
  "kernelspec": {
   "display_name": "Python 3.10.5 64-bit",
   "language": "python",
   "name": "python3"
  },
  "language_info": {
   "codemirror_mode": {
    "name": "ipython",
    "version": 3
   },
   "file_extension": ".py",
   "mimetype": "text/x-python",
   "name": "python",
   "nbconvert_exporter": "python",
   "pygments_lexer": "ipython3",
   "version": "3.10.5"
  },
  "orig_nbformat": 4,
  "vscode": {
   "interpreter": {
    "hash": "07d4027a9d5a2d17ca274cae8ea4257d348dc8ef83b7854a3ad49472e0b4c5f4"
   }
  }
 },
 "nbformat": 4,
 "nbformat_minor": 2
}
